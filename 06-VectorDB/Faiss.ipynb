{
 "cells": [
  {
   "cell_type": "markdown",
   "id": "280cffa4-8f10-4257-b75d-3c888ae5d2eb",
   "metadata": {},
   "source": [
    "## Install GPU Version "
   ]
  },
  {
   "cell_type": "markdown",
   "id": "042c3318-28d9-4b1c-9330-5cdeed0a2fd4",
   "metadata": {},
   "source": [
    "+ https://anaconda.org/search?q=faiss-gpu\n",
    "+ Find cmd as \"conda install conda-forge::faiss-gpu\"\n",
    "+ Install\n",
    "+ Restart jupyterlab"
   ]
  },
  {
   "cell_type": "code",
   "execution_count": 1,
   "id": "c875b7b8-3f40-49dc-b1c2-eee8714a90b0",
   "metadata": {},
   "outputs": [],
   "source": [
    "import faiss\n",
    "import numpy as np"
   ]
  },
  {
   "cell_type": "markdown",
   "id": "8acc5804-7d42-404c-9a8c-755e2fad6b63",
   "metadata": {},
   "source": [
    "### Load Data"
   ]
  },
  {
   "cell_type": "code",
   "execution_count": 2,
   "id": "c7eab03e-bb0c-47e9-a1be-275345298343",
   "metadata": {},
   "outputs": [],
   "source": [
    "d = 64                           # 向量维度\n",
    "nb = 10000                       # 数据库中向量的数量\n",
    "np.random.seed(1234)             # 确保结果可重复\n",
    "xb = np.random.random((nb, d)).astype('float32')  # 数据库向量\n",
    "xb[:, 0] += np.arange(nb) / 1000.  # 添加一些差异以便于验证"
   ]
  },
  {
   "cell_type": "code",
   "execution_count": 5,
   "id": "c8d54426-473f-4ab4-85bb-dbdd2d4c38a8",
   "metadata": {},
   "outputs": [
    {
     "data": {
      "text/plain": [
       "640000"
      ]
     },
     "execution_count": 5,
     "metadata": {},
     "output_type": "execute_result"
    }
   ],
   "source": [
    "xb.size"
   ]
  },
  {
   "cell_type": "markdown",
   "id": "45eec3b9-d2f6-43de-bb3f-18eee2e313f6",
   "metadata": {},
   "source": [
    "### Create Index"
   ]
  },
  {
   "cell_type": "markdown",
   "id": "beb2bc64-6f8b-4724-b02a-87dcaa2210f6",
   "metadata": {},
   "source": [
    "#### IndexFlatL2 "
   ]
  },
  {
   "cell_type": "code",
   "execution_count": 6,
   "id": "30dd1727-5537-4214-bc43-65fb174e8252",
   "metadata": {},
   "outputs": [
    {
     "name": "stdout",
     "output_type": "stream",
     "text": [
      "True\n",
      "10000\n"
     ]
    }
   ],
   "source": [
    "index = faiss.IndexFlatL2(d)   # 使用 L2 距离构建索引\n",
    "print(index.is_trained)        # 输出 'True'，因为 FlatIndex 不需要训练\n",
    "index.add(xb)                  # 将向量添加到索引\n",
    "print(index.ntotal)            # 输出 '10000'，表示已添加的向量数量"
   ]
  },
  {
   "cell_type": "code",
   "execution_count": null,
   "id": "b154dec5-08d2-4eca-a680-9849ed507c31",
   "metadata": {},
   "outputs": [],
   "source": [
    "nq = 10                          # 查询向量的数量\n",
    "xq = np.random.random((nq, d)).astype('float32')\n",
    "xq[:, 0] += np.arange(nq) / 1000.\n",
    "\n",
    "k = 4                            # 返回最近邻的数量\n",
    "D, I = index.search(xq, k)       # 实际进行搜索\n",
    "print(I)                         # 最近邻的索引\n",
    "print(D)                         # 对应的距离"
   ]
  },
  {
   "cell_type": "markdown",
   "id": "d84606d9-8953-4c46-a3ae-4fa995cd88b6",
   "metadata": {},
   "source": [
    "#### IVF(Inverted File)"
   ]
  },
  {
   "cell_type": "code",
   "execution_count": 9,
   "id": "49eef1b3-ed7e-4165-b45d-db27896f1476",
   "metadata": {},
   "outputs": [],
   "source": [
    "nlist = 100  # 聚类中心的数量\n",
    "quantizer = faiss.IndexFlatL2(d)  # 使用 L2 距离作为量化器\n",
    "index_ivf = faiss.IndexIVFFlat(quantizer, d, nlist, faiss.METRIC_L2)\n",
    "\n",
    "# 训练索引\n",
    "index_ivf.train(xb)"
   ]
  },
  {
   "cell_type": "code",
   "execution_count": 10,
   "id": "4256665a-3b67-41a6-8048-83cc1fd6d4df",
   "metadata": {},
   "outputs": [
    {
     "name": "stdout",
     "output_type": "stream",
     "text": [
      "[[1075  416   34   88]\n",
      " [  30  118  479  365]\n",
      " [ 364  145 1040 1129]\n",
      " [  14   22  261  439]\n",
      " [ 782  483  756  918]]\n",
      "[[7.0537624 7.1303234 7.837903  8.13125  ]\n",
      " [6.719946  6.798668  7.099112  7.145878 ]\n",
      " [7.5604906 7.5931296 7.912198  8.444745 ]\n",
      " [7.436784  7.784588  7.9796133 7.984132 ]\n",
      " [6.421344  6.9501457 7.8102565 7.832158 ]]\n"
     ]
    }
   ],
   "source": [
    "# 添加向量到索引\n",
    "index_ivf.add(xb)\n",
    "\n",
    "# 执行搜索\n",
    "D, I = index_ivf.search(xq, k)\n",
    "print(I[-5:])  # 输出最后五个查询的结果\n",
    "print(D[-5:])  # 输出对应的距离"
   ]
  },
  {
   "cell_type": "markdown",
   "id": "8880f441-5410-4dd1-896c-8b8de89e6925",
   "metadata": {},
   "source": [
    "#### HNSW (Hierarchical Navigable Small World Graphs)"
   ]
  },
  {
   "cell_type": "code",
   "execution_count": null,
   "id": "b8145d32-b9f4-4fd2-bf66-087ff8e6ac6e",
   "metadata": {},
   "outputs": [],
   "source": []
  },
  {
   "cell_type": "markdown",
   "id": "f6b78348-5cac-43ae-9f26-92dc07742963",
   "metadata": {},
   "source": [
    "### Search in DB"
   ]
  },
  {
   "cell_type": "code",
   "execution_count": 7,
   "id": "59d91e42-989f-4574-b613-b0a3388bcf8e",
   "metadata": {},
   "outputs": [
    {
     "name": "stdout",
     "output_type": "stream",
     "text": [
      "[[ 794   72  515 1204]\n",
      " [ 393  919  424  923]\n",
      " [ 688  806  763  185]\n",
      " [ 950  230  317  703]\n",
      " [ 199  409  411  794]\n",
      " [ 383  227 1075  416]\n",
      " [ 630  133   32  917]\n",
      " [1407  235  779  470]\n",
      " [  14   22  581  507]\n",
      " [ 637  782  483  680]]\n",
      "[[5.9375467 6.2643566 6.2803383 6.396471 ]\n",
      " [7.596614  8.063351  8.070611  8.196373 ]\n",
      " [7.180752  7.3030562 7.459653  7.502161 ]\n",
      " [6.0598154 6.094823  6.198604  6.550714 ]\n",
      " [5.482876  7.1775966 7.246011  7.33661  ]\n",
      " [6.25152   6.906643  7.0537624 7.1303234]\n",
      " [6.4409313 6.578717  6.6783032 6.6917696]\n",
      " [7.0216146 7.0476847 7.33723   7.4447927]\n",
      " [7.436784  7.784588  7.9513555 7.9681993]\n",
      " [5.997012  6.421344  6.9501457 7.008673 ]]\n"
     ]
    }
   ],
   "source": [
    "nq = 10                          # 查询向量的数量\n",
    "xq = np.random.random((nq, d)).astype('float32')\n",
    "xq[:, 0] += np.arange(nq) / 1000.\n",
    "\n",
    "k = 4                            # 返回最近邻的数量\n",
    "D, I = index.search(xq, k)       # 实际进行搜索\n",
    "print(I)                         # 最近邻的索引\n",
    "print(D)                         # 对应的距离"
   ]
  },
  {
   "cell_type": "code",
   "execution_count": null,
   "id": "cc66d176-67f6-4364-b18c-435f19a39c93",
   "metadata": {},
   "outputs": [],
   "source": []
  }
 ],
 "metadata": {
  "kernelspec": {
   "display_name": "Python 3 (ipykernel)",
   "language": "python",
   "name": "python3"
  },
  "language_info": {
   "codemirror_mode": {
    "name": "ipython",
    "version": 3
   },
   "file_extension": ".py",
   "mimetype": "text/x-python",
   "name": "python",
   "nbconvert_exporter": "python",
   "pygments_lexer": "ipython3",
   "version": "3.12.9"
  }
 },
 "nbformat": 4,
 "nbformat_minor": 5
}
